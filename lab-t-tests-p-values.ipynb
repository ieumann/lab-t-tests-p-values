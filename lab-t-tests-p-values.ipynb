{
 "cells": [
  {
   "cell_type": "markdown",
   "id": "5f2b6853",
   "metadata": {},
   "source": [
    "### Instructions\n",
    "\n",
    "We will have another simple example on two sample t test (pooled- when the variances are equal). But this time this is a one sided t-test.\n",
    "\n",
    "In a packing plant, a machine packs cartons with jars. It is supposed that a new machine will pack faster on the average than the machine currently used. To test that hypothesis, the times it takes each machine to pack ten cartons are recorded. The results, in seconds, are shown in the tables in the file `files_for_lab/machine.txt`. Assume that there is sufficient evidence to conduct the t test, does the data provide sufficient evidence to show if one machine is better than the other."
   ]
  },
  {
   "cell_type": "markdown",
   "id": "e6d63e01",
   "metadata": {},
   "source": [
    "### Hypothesis Test"
   ]
  },
  {
   "cell_type": "markdown",
   "id": "acb8141d",
   "metadata": {},
   "source": [
    "H0: The new machine does not pack faster on average than the current machine. μ_new ≥ μ_current <br>\n",
    "HA: The new machine packs faster on average than the current machine. μ_new < μ_current"
   ]
  },
  {
   "cell_type": "markdown",
   "id": "3d2fc483",
   "metadata": {},
   "source": [
    "Further definitions:\n",
    "- Since we are comparing the mean of one sample to a known population mean, we can use a two-sample t-test (one-tailed).\n",
    "- We conduct a t-test.\n",
    "- Level of significance alpha = 0.05."
   ]
  },
  {
   "cell_type": "code",
   "execution_count": 24,
   "id": "3544db70",
   "metadata": {},
   "outputs": [
    {
     "name": "stdout",
     "output_type": "stream",
     "text": [
      "T-statistic: 3.3972307061176026\n",
      "P-value: 0.0032111425007745158\n"
     ]
    }
   ],
   "source": [
    "import numpy as np\n",
    "from scipy.stats import ttest_ind\n",
    "\n",
    "old_machine = [42.1, 41, 41.3, 41.8, 42.4, 42.8, 43.2, 42.3, 41.8, 42.7]\n",
    "new_machine = [42.7, 43.6, 43.8, 43.3, 42.5, 43.5, 43.1, 41.7, 44, 44.1]\n",
    "\n",
    "t_statistic, p_value = ttest_ind(new_machine, old_machine)\n",
    "\n",
    "print(\"T-statistic:\", t_statistic)\n",
    "print(\"P-value:\", p_value)"
   ]
  },
  {
   "cell_type": "markdown",
   "id": "8bcd81d8",
   "metadata": {},
   "source": [
    "We compare the test statistic with the critical value or p-value to make a decision. Checking the critical value. <br>\n",
    "dof = 10 <br>\n",
    "alpha = 0.05 <br>\n",
    "critical value = 2.228 <br>"
   ]
  },
  {
   "cell_type": "markdown",
   "id": "91aa12f0",
   "metadata": {},
   "source": [
    "To make a decision, we compare the obtained p-value with the chosen significance level (α). If the p-value is less than α, we reject the null hypothesis. If the p-value is greater than or equal to α, we fail to reject the null hypothesis."
   ]
  },
  {
   "cell_type": "markdown",
   "id": "171b3b29",
   "metadata": {},
   "source": [
    "**Conclusions**\n",
    "\n",
    "The critical value is approx. (-)2.228. <br>\n",
    "Since the p-value (0.0032) is smaller than the significance level (0.01), we can conclude that there is sufficient evidence to reject the null hypothesis. The observed test statistic is statistically significant. <br>\n",
    "In this case, the test statistic (3.3972) is greater than the critical value (2.228). It suggests that the observed data is unlikely to occur if the null hypothesis is true. We reject it.\n",
    "In relation to their average packaging speed the new machine packs fast than the old one."
   ]
  }
 ],
 "metadata": {
  "kernelspec": {
   "display_name": "Python 3 (ipykernel)",
   "language": "python",
   "name": "python3"
  },
  "language_info": {
   "codemirror_mode": {
    "name": "ipython",
    "version": 3
   },
   "file_extension": ".py",
   "mimetype": "text/x-python",
   "name": "python",
   "nbconvert_exporter": "python",
   "pygments_lexer": "ipython3",
   "version": "3.9.13"
  }
 },
 "nbformat": 4,
 "nbformat_minor": 5
}
